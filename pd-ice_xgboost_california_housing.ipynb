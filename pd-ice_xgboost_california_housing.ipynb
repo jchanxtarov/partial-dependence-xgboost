{
 "cells": [
  {
   "cell_type": "code",
   "execution_count": 1,
   "id": "82981960",
   "metadata": {
    "ExecuteTime": {
     "end_time": "2021-09-14T01:06:07.283325Z",
     "start_time": "2021-09-14T01:06:05.124288Z"
    }
   },
   "outputs": [],
   "source": [
    "from sklearn.datasets import fetch_california_housing\n",
    "import numpy as np\n",
    "import pandas as pd\n",
    "from sklearn.model_selection import train_test_split\n",
    "from sklearn.model_selection import KFold\n",
    "from sklearn.inspection import plot_partial_dependence, partial_dependence\n",
    "import xgboost as xgb\n",
    "from sklearn.metrics import mean_squared_error, r2_score\n",
    "import matplotlib.pyplot as plt\n",
    "import seaborn as sns"
   ]
  },
  {
   "cell_type": "code",
   "execution_count": 2,
   "id": "9299676a",
   "metadata": {
    "ExecuteTime": {
     "end_time": "2021-09-14T01:06:07.298400Z",
     "start_time": "2021-09-14T01:06:07.285001Z"
    }
   },
   "outputs": [],
   "source": [
    "california = fetch_california_housing()\n",
    "X = pd.DataFrame(california.data.astype('float32'), columns=california.feature_names)\n",
    "y = california.target"
   ]
  },
  {
   "cell_type": "code",
   "execution_count": 3,
   "id": "4930379f",
   "metadata": {
    "ExecuteTime": {
     "end_time": "2021-09-14T01:06:07.303723Z",
     "start_time": "2021-09-14T01:06:07.301179Z"
    }
   },
   "outputs": [],
   "source": [
    "TEST_SIZE = 0.2\n",
    "RANDOM_SEED = 2020\n",
    "N_FOLD = 5"
   ]
  },
  {
   "cell_type": "markdown",
   "id": "3732f430",
   "metadata": {},
   "source": [
    "# PD & ICE for all instance\n",
    "see also: https://scikit-learn.org/stable/modules/generated/sklearn.inspection.plot_partial_dependence.html"
   ]
  },
  {
   "cell_type": "code",
   "execution_count": 4,
   "id": "f34240d2",
   "metadata": {
    "ExecuteTime": {
     "end_time": "2021-09-14T01:06:07.726020Z",
     "start_time": "2021-09-14T01:06:07.307282Z"
    }
   },
   "outputs": [
    {
     "name": "stdout",
     "output_type": "stream",
     "text": [
      "Multiple eval metrics have been passed: 'validation_1-rmse' will be used for early stopping.\n",
      "Will train until validation_1-rmse hasn't improved in 5 rounds.\n",
      "[0]\tvalidation_0-rmse:1.43900\tvalidation_1-rmse:1.44776\n",
      "[10]\tvalidation_0-rmse:0.47500\tvalidation_1-rmse:0.52740\n",
      "[20]\tvalidation_0-rmse:0.41523\tvalidation_1-rmse:0.49083\n"
     ]
    },
    {
     "name": "stderr",
     "output_type": "stream",
     "text": [
      "/Users/ryotaro.shimizu/.pyenv/versions/3.7.9/lib/python3.7/site-packages/xgboost/training.py:17: UserWarning: Old style callback is deprecated.  See: https://xgboost.readthedocs.io/en/latest/python/callbacks.html\n",
      "  warnings.warn(f'Old style callback is deprecated.  See: {link}', UserWarning)\n"
     ]
    },
    {
     "name": "stdout",
     "output_type": "stream",
     "text": [
      "[30]\tvalidation_0-rmse:0.37941\tvalidation_1-rmse:0.47939\n",
      "[40]\tvalidation_0-rmse:0.35717\tvalidation_1-rmse:0.47417\n",
      "Stopping. Best iteration:\n",
      "[38]\tvalidation_0-rmse:0.35895\tvalidation_1-rmse:0.47411\n"
     ]
    }
   ],
   "source": [
    "X_train, X_test, y_train, y_test = train_test_split(X, y, test_size=TEST_SIZE, shuffle=True, random_state=RANDOM_SEED)\n",
    "\n",
    "model = xgb.XGBRegressor(\n",
    "    objective='reg:squarederror',\n",
    "    n_estimators=100,\n",
    "    importance_type=\"gain\", # TODO: check 'weight' and 'cover'\n",
    "    random_state=RANDOM_SEED,\n",
    ")\n",
    "evals_result = {}\n",
    "model.fit(\n",
    "    X=X_train,\n",
    "    y=y_train,\n",
    "    eval_set=[(X_train, y_train), (X_test, y_test)],\n",
    "    early_stopping_rounds=5,\n",
    "    verbose=10,\n",
    "    eval_metric='rmse',\n",
    "    callbacks=[xgb.callback.record_evaluation(evals_result)],\n",
    ")\n",
    "\n",
    "pred = model.predict(X_test)"
   ]
  },
  {
   "cell_type": "code",
   "execution_count": 5,
   "id": "31b80e1c",
   "metadata": {
    "ExecuteTime": {
     "end_time": "2021-09-14T01:06:07.732662Z",
     "start_time": "2021-09-14T01:06:07.727808Z"
    }
   },
   "outputs": [
    {
     "name": "stdout",
     "output_type": "stream",
     "text": [
      "RMSE: 0.4741107130369501\n",
      "R^2: 0.8340943552033905\n"
     ]
    }
   ],
   "source": [
    "print(f\"RMSE: {mean_squared_error(y_test, pred, squared=False)}\")\n",
    "print(f\"R^2: {r2_score(y_test, pred)}\")"
   ]
  },
  {
   "cell_type": "code",
   "execution_count": 6,
   "id": "e22d485b",
   "metadata": {
    "ExecuteTime": {
     "end_time": "2021-09-14T01:06:07.741329Z",
     "start_time": "2021-09-14T01:06:07.734728Z"
    }
   },
   "outputs": [
    {
     "data": {
      "text/plain": [
       "Index(['MedInc', 'HouseAge', 'AveRooms', 'AveBedrms', 'Population', 'AveOccup',\n",
       "       'Latitude', 'Longitude'],\n",
       "      dtype='object')"
      ]
     },
     "execution_count": 6,
     "metadata": {},
     "output_type": "execute_result"
    }
   ],
   "source": [
    "X.columns"
   ]
  },
  {
   "cell_type": "code",
   "execution_count": null,
   "id": "6b592230",
   "metadata": {
    "ExecuteTime": {
     "start_time": "2021-09-14T01:06:05.122Z"
    }
   },
   "outputs": [],
   "source": [
    "plot_partial_dependence(\n",
    "    estimator=model,\n",
    "    X=X_test,\n",
    "    features=X.columns.tolist(),\n",
    "#     features=['MedInc', 'HouseAge'],\n",
    "    kind='both',\n",
    ")"
   ]
  },
  {
   "cell_type": "code",
   "execution_count": null,
   "id": "1e3bb99d",
   "metadata": {
    "ExecuteTime": {
     "start_time": "2021-09-14T01:06:05.123Z"
    },
    "scrolled": false
   },
   "outputs": [],
   "source": [
    "for col in X.columns:\n",
    "    _, ax = plt.subplots(figsize=(8, 4))\n",
    "    ax.set_title(f\"PD & ICE for {col}\")\n",
    "\n",
    "    plot_partial_dependence(\n",
    "        estimator=model,\n",
    "        X=X_test,\n",
    "        features=[col],\n",
    "        kind='both',\n",
    "        ax=ax,\n",
    "    )"
   ]
  },
  {
   "cell_type": "markdown",
   "id": "b4abae98",
   "metadata": {},
   "source": [
    "# PD"
   ]
  },
  {
   "cell_type": "code",
   "execution_count": null,
   "id": "971f7949",
   "metadata": {
    "ExecuteTime": {
     "start_time": "2021-09-14T01:06:05.125Z"
    },
    "scrolled": false
   },
   "outputs": [],
   "source": [
    "for col in X.columns:\n",
    "    _, ax = plt.subplots(figsize=(8, 4))\n",
    "    ax.set_title(f\"PD for {col}\")\n",
    "\n",
    "    plot_partial_dependence(\n",
    "        estimator=model,\n",
    "        X=X_test,\n",
    "        features=[col],\n",
    "        kind='average',\n",
    "        ax=ax,\n",
    "    )"
   ]
  },
  {
   "cell_type": "markdown",
   "id": "01ea7e80",
   "metadata": {},
   "source": [
    "# ICE for a certain instance\n",
    "see also: https://scikit-learn.org/stable/modules/generated/sklearn.inspection.partial_dependence.html"
   ]
  },
  {
   "cell_type": "code",
   "execution_count": null,
   "id": "32ccd48b",
   "metadata": {
    "ExecuteTime": {
     "start_time": "2021-09-14T01:06:05.127Z"
    }
   },
   "outputs": [],
   "source": [
    "col = 'MedInc'\n",
    "ice = partial_dependence(\n",
    "    estimator=model,\n",
    "    X=X_test,\n",
    "    features=[col],\n",
    "    kind='individual',\n",
    ")\n",
    "x = ice['values'][0]\n",
    "\n",
    "for idx in [0, 1, 2, 4, 5]:\n",
    "    plt.xlabel(col, fontsize=10)\n",
    "    plt.ylabel(\"Partial dependence\", fontsize=10)\n",
    "    plt.plot(x, ice.individual[0, idx], label=f\"ICE for house id: {idx}\")\n",
    "    plt.legend(loc=\"lower left\", fontsize=10)\n",
    "    plt.title(\"Individual Conditional Expectation for some certain instances\")"
   ]
  },
  {
   "cell_type": "code",
   "execution_count": null,
   "id": "1dce9ba5",
   "metadata": {},
   "outputs": [],
   "source": []
  }
 ],
 "metadata": {
  "kernelspec": {
   "display_name": "Python 3 (ipykernel)",
   "language": "python",
   "name": "python3"
  },
  "language_info": {
   "codemirror_mode": {
    "name": "ipython",
    "version": 3
   },
   "file_extension": ".py",
   "mimetype": "text/x-python",
   "name": "python",
   "nbconvert_exporter": "python",
   "pygments_lexer": "ipython3",
   "version": "3.7.9"
  },
  "toc": {
   "base_numbering": 1,
   "nav_menu": {},
   "number_sections": true,
   "sideBar": true,
   "skip_h1_title": false,
   "title_cell": "Table of Contents",
   "title_sidebar": "Contents",
   "toc_cell": false,
   "toc_position": {},
   "toc_section_display": true,
   "toc_window_display": false
  },
  "varInspector": {
   "cols": {
    "lenName": 16,
    "lenType": 16,
    "lenVar": 40
   },
   "kernels_config": {
    "python": {
     "delete_cmd_postfix": "",
     "delete_cmd_prefix": "del ",
     "library": "var_list.py",
     "varRefreshCmd": "print(var_dic_list())"
    },
    "r": {
     "delete_cmd_postfix": ") ",
     "delete_cmd_prefix": "rm(",
     "library": "var_list.r",
     "varRefreshCmd": "cat(var_dic_list()) "
    }
   },
   "types_to_exclude": [
    "module",
    "function",
    "builtin_function_or_method",
    "instance",
    "_Feature"
   ],
   "window_display": false
  }
 },
 "nbformat": 4,
 "nbformat_minor": 5
}
